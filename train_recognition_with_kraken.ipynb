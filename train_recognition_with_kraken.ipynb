{
 "cells": [
  {
   "cell_type": "markdown",
   "id": "b94da025-5607-4328-8dd0-81c6bce23599",
   "metadata": {},
   "source": [
    "# Train HTR recognition models with Kraken\n",
    "\n",
    "If you are lacking infrastructure to run large training sets for Kraken, *Google Colab* is a good alternative. By default all your data will be deleted at the end of your session, so make sure to download and save whatever files you wish to hold on to.\n",
    "\n",
    "There are basically two ways of training HTR modells with Kraken: You can train a model *from scratch* or *fine-tune* a pre-trained model. This notebook will take you through both of these options, make sure you only follow the sections needed for your project."
   ]
  },
  {
   "cell_type": "markdown",
   "id": "c8d7dfb5-5588-4d03-bf58-4a4e15bbe4ec",
   "metadata": {},
   "source": [
    "## Installation\n",
    "For either option first install Kraken in *Colab*. This may take a few minutes."
   ]
  },
  {
   "cell_type": "code",
   "execution_count": null,
   "id": "b4820edc-d55e-4f7a-82db-822af901d4cd",
   "metadata": {},
   "outputs": [],
   "source": [
    "!pip install kraken==5.2.9 > pip_output.txt"
   ]
  },
  {
   "cell_type": "markdown",
   "id": "d26c2d68-12a0-43a5-aa6c-f17b430c49bb",
   "metadata": {},
   "source": [
    "## Prepare training directory\n",
    "Before you start training you need to upload the data you would like to train your model on. This includes the image files as well as all your prepared transcriptions in an xml formate. This notebook assumes you are using ALTO but you can adjust it for using PAGE a little further down the line.\n",
    "\n",
    "Save all your image and xml files to a folder and adjust the path in the following line. Then run that line."
   ]
  },
  {
   "cell_type": "code",
   "execution_count": null,
   "id": "8725d1c4-0ae0-4094-a7c2-39de57f37305",
   "metadata": {},
   "outputs": [],
   "source": [
    "!find PATH/ -type f -name \"*.xml\" > output.txt"
   ]
  },
  {
   "cell_type": "markdown",
   "id": "c7c3efd1-8873-4250-8b85-f1e83fbb76bb",
   "metadata": {},
   "source": [
    "## Training a model from scratch\n",
    "\n",
    "Use this section to train a model **from scratch**. If you wish to fine-tune a model, skip to the next section.\n",
    "\n",
    "First, you may wish to provide a random split for your material. Run the following line to divert 80% to the training set, 10% to the test set, and 10% to the validation set.\n",
    "\n",
    "If your ground truth comes in PAGE xml, change `alto` to `page`."
   ]
  },
  {
   "cell_type": "code",
   "execution_count": null,
   "id": "10dc9913-3acc-4bb0-9956-72d01295c901",
   "metadata": {},
   "outputs": [],
   "source": [
    "!ketos compile -F output.txt --random-split 0.8 0.1 0.1 -f alto"
   ]
  },
  {
   "cell_type": "markdown",
   "id": "23ab985b-a5c6-447d-b63b-9149552a86d8",
   "metadata": {},
   "source": [
    "Now adjust the following line by setting the folder where you would liker your models to be saved as well as the prefix (i.e. the name) for your model. This should look somewhat like `folder_to_store/model_prefix`.\n",
    "\n",
    "Here, we added that training should run for at least 30 epochs before stopping. If you wish to not specify, delete `--min-epochs 30`.\n",
    "\n",
    "If you have set up GPU, include `-d cuda:0` after `binary`. If you don't specify, Kraken will run on CPU.\n",
    "\n",
    "Now run this line."
   ]
  },
  {
   "cell_type": "code",
   "execution_count": null,
   "id": "97f5dae9-76e7-4086-a96e-f266d04424d8",
   "metadata": {},
   "outputs": [],
   "source": [
    "!ketos train -f binary -o PATH/PREFIX --min-epochs 30 dataset.arrow"
   ]
  },
  {
   "cell_type": "markdown",
   "id": "4df37c55-76b6-4995-9cdf-b448ce03c94e",
   "metadata": {},
   "source": [
    "Training will take quite some time while Kraken keeps saving model files to the assigned folder. \n",
    "\n",
    "When training ends, choose the model best suited and download it. Also, download whatever files you may decide to keep as *Colab* will delete all of your data by default."
   ]
  },
  {
   "cell_type": "markdown",
   "id": "944a50a2-1b35-44ca-8baf-c8e8d2ccd63c",
   "metadata": {},
   "source": [
    "## Fine-tune a pre-trained model\n",
    "\n",
    "If you wish to use a base model and fine-tune that with your own data, save that model to *Colab*. You will need to specify the path to it later. First, run this line."
   ]
  },
  {
   "cell_type": "code",
   "execution_count": null,
   "id": "6d732d28-282a-4b26-aa2e-4ac0913dfb6e",
   "metadata": {},
   "outputs": [],
   "source": [
    "!ketos compile -F output.txt -f alto"
   ]
  },
  {
   "cell_type": "markdown",
   "id": "21cbc74b-9908-4715-9413-483a6589f3e5",
   "metadata": {},
   "source": [
    "Now adjust the path to your base model and add the prefix (i.e., the name of yourmodel without `.mlmodel`) for your fine-tuned model. Then run this line."
   ]
  },
  {
   "cell_type": "code",
   "execution_count": null,
   "id": "84e77af7-a54d-4f98-b357-e5a673fb955c",
   "metadata": {},
   "outputs": [],
   "source": [
    "!ketos train -f binary --resize both -i PATH/MODEL -o PATH/PREFIX_NEW_MODEL dataset.arrow"
   ]
  },
  {
   "cell_type": "markdown",
   "id": "8404b4ee-29e5-4c4a-8bff-c60711f941cd",
   "metadata": {},
   "source": [
    "Training will take quite some time while Kraken keeps saving model files to the assigned folder.\n",
    "\n",
    "When training ends, choose the model best suited and download it. Also, download whatever files you may decide to keep as *Colab* will delete all of your data by default."
   ]
  }
 ],
 "metadata": {
  "kernelspec": {
   "display_name": "Python 3 (ipykernel)",
   "language": "python",
   "name": "python3"
  },
  "language_info": {
   "codemirror_mode": {
    "name": "ipython",
    "version": 3
   },
   "file_extension": ".py",
   "mimetype": "text/x-python",
   "name": "python",
   "nbconvert_exporter": "python",
   "pygments_lexer": "ipython3",
   "version": "3.12.9"
  }
 },
 "nbformat": 4,
 "nbformat_minor": 5
}
