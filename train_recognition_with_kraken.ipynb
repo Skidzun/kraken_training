{
 "cells": [
  {
   "cell_type": "markdown",
   "id": "b94da025-5607-4328-8dd0-81c6bce23599",
   "metadata": {},
   "source": [
    "# Train HTR recognition models with Kraken\n",
    "\n",
    "If you are lacking infrastructure to run large training sets for Kraken, *Google Colab* is a good alternative. By default all your data will be deleted at the end of your session, so make sure to download and save whatever files you wish to hold on to.\n",
    "\n",
    "There are basically two ways of training HTR modells with Kraken: You can train a model *from scratch* or *fine-tune* a pre-trained model. This notebook will take you through both of these options, make sure you only follow the sections needed for your project."
   ]
  },
  {
   "cell_type": "markdown",
   "id": "c8d7dfb5-5588-4d03-bf58-4a4e15bbe4ec",
   "metadata": {},
   "source": [
    "## Installation\n",
    "For either option first install Kraken in *Colab*. This may take a few minutes."
   ]
  },
  {
   "cell_type": "code",
   "execution_count": null,
   "id": "b4820edc-d55e-4f7a-82db-822af901d4cd",
   "metadata": {},
   "outputs": [],
   "source": [
    "!pip install kraken==5.2.9 > pip_output.txt"
   ]
  },
  {
   "cell_type": "markdown",
   "id": "d26c2d68-12a0-43a5-aa6c-f17b430c49bb",
   "metadata": {},
   "source": [
    "## Prepare training directory\n",
    "Before you start training you need to upload the data you would like to train your model on. This includes the image files as well as all your prepared transcriptions in an xml formate. This notebook uses ALTO but you can adjust it to PAGE my changing `alto` to `page` in the process (we will get back to that).\n",
    "Save all your image and xml files to a folder and adjust the path in the following line. Then run that line."
   ]
  },
  {
   "cell_type": "code",
   "execution_count": null,
   "id": "8725d1c4-0ae0-4094-a7c2-39de57f37305",
   "metadata": {},
   "outputs": [],
   "source": [
    "!find PATH/ -type f -name \"*.xml\" > output.txt"
   ]
  },
  {
   "cell_type": "markdown",
   "id": "6ed1c74a-a427-4906-a5bf-e3861b642471",
   "metadata": {},
   "source": [
    "If you opted for PAGE, adjust `alto` to `page` in the following line, then run that line."
   ]
  },
  {
   "cell_type": "code",
   "execution_count": null,
   "id": "4a17de71-7adc-404a-ab32-f4ea46ed5319",
   "metadata": {},
   "outputs": [],
   "source": [
    "!ketos compile -F output.txt -f alto"
   ]
  },
  {
   "cell_type": "markdown",
   "id": "c7c3efd1-8873-4250-8b85-f1e83fbb76bb",
   "metadata": {},
   "source": [
    "## Training a model from scratch\n",
    "\n",
    "Use this section to train a model **from scratch**. If you wish to fine-tune a model, skip to the next section.\n",
    "First, you may wish to provide a random split for your material. Run the following line to divert 80% to the training set, 10% to the test set, and 10% to the validation set."
   ]
  },
  {
   "cell_type": "code",
   "execution_count": null,
   "id": "10dc9913-3acc-4bb0-9956-72d01295c901",
   "metadata": {},
   "outputs": [],
   "source": [
    "!ketos compile -F output.txt --random-splits 0.8 0.1 0.1 -f alto"
   ]
  },
  {
   "cell_type": "markdown",
   "id": "23ab985b-a5c6-447d-b63b-9149552a86d8",
   "metadata": {},
   "source": [
    "Now adjust the following line by setting the folder where you would liker your models to be saved as well as the prefix (i.e. the name) for your model. This should look somewhat like `folder_to_store/model_prefix`. The run this line."
   ]
  },
  {
   "cell_type": "code",
   "execution_count": null,
   "id": "97f5dae9-76e7-4086-a96e-f266d04424d8",
   "metadata": {},
   "outputs": [],
   "source": [
    "!ketos train -f binary -o PATH/PREFIX dataset.arrow"
   ]
  },
  {
   "cell_type": "markdown",
   "id": "4df37c55-76b6-4995-9cdf-b448ce03c94e",
   "metadata": {},
   "source": [
    "Training will take quite some time. Kraken will keep saving model files to the assigned folder. When training ends, chose the model best suited and download it. Also, download whatever files you may decide to keep as *Colab* will delete all of your data by default."
   ]
  },
  {
   "cell_type": "markdown",
   "id": "944a50a2-1b35-44ca-8baf-c8e8d2ccd63c",
   "metadata": {},
   "source": [
    "## Fine-tune a pre-trained model\n",
    "\n",
    "If you wish to use a base model and fine-tune that with your own data, save that model to *Colab*, then adjust the path to that model and add the prefix for your fine-tuned model. Then run this line."
   ]
  },
  {
   "cell_type": "code",
   "execution_count": null,
   "id": "84e77af7-a54d-4f98-b357-e5a673fb955c",
   "metadata": {},
   "outputs": [],
   "source": [
    "!ketos train -f binary --resize both -i PATH/MODEL -o PATH/PREFIX_NEW_MODEL dataset.arrow"
   ]
  },
  {
   "cell_type": "code",
   "execution_count": null,
   "id": "92ec85ed-0b02-43c2-8aab-4dd2416a043b",
   "metadata": {},
   "outputs": [],
   "source": []
  }
 ],
 "metadata": {
  "kernelspec": {
   "display_name": "Python 3 (ipykernel)",
   "language": "python",
   "name": "python3"
  },
  "language_info": {
   "codemirror_mode": {
    "name": "ipython",
    "version": 3
   },
   "file_extension": ".py",
   "mimetype": "text/x-python",
   "name": "python",
   "nbconvert_exporter": "python",
   "pygments_lexer": "ipython3",
   "version": "3.12.9"
  }
 },
 "nbformat": 4,
 "nbformat_minor": 5
}
