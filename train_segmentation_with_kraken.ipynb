{
 "cells": [
  {
   "cell_type": "markdown",
   "id": "285b7a71-3ba6-4318-af06-1d5a2ed6080c",
   "metadata": {},
   "source": [
    "# Train HTR segmentation models with Kraken\n",
    "\n",
    "If you are lacking infrastructure to run large training sets for Kraken, *Google Colab* is a good alternative. By default all your data will be deleted at the end of your session, so make sure to download and save whatever files you wish to hold on to.\n",
    "\n",
    "There are basically two ways of training HTR modells with Kraken: You can train a model *from scratch* or *fine-tune* a pre-trained model. This notebook will take you through both of these options for training a segmentation modell, make sure you only follow the sections needed for your project."
   ]
  },
  {
   "cell_type": "markdown",
   "id": "f77f2492-6f0a-44c2-98a6-31272cb88acb",
   "metadata": {},
   "source": [
    "## Installation\n",
    "For either option first install Kraken in *Colab*. This may take a few minutes."
   ]
  },
  {
   "cell_type": "code",
   "execution_count": null,
   "id": "9482d787-e60f-464e-8a94-462fae004705",
   "metadata": {},
   "outputs": [],
   "source": [
    "!pip install kraken==5.2.9 > pip_output.txt"
   ]
  },
  {
   "cell_type": "markdown",
   "id": "5ce2a23e-7bd8-49e6-8d33-cb3c08177d99",
   "metadata": {},
   "source": [
    "## Create manifest file\n",
    "Now create a manifest file. First, upload your training data (image and xml files containing region and line segmentation specifications) to a file. Adjust the path in the following line accordingly, then run that line."
   ]
  },
  {
   "cell_type": "code",
   "execution_count": null,
   "id": "d084f47b-d4d5-42e4-bdb1-39731aab9fdd",
   "metadata": {},
   "outputs": [],
   "source": [
    "!find PATH/ -type f -name \"*.xml\" > output.txt"
   ]
  },
  {
   "cell_type": "markdown",
   "id": "335197f5-d842-4705-a7ac-8a73ebd46a29",
   "metadata": {},
   "source": [
    "## Train from scratch\n",
    "In order to train a model from scratch adjust the following line by specifying the path to the manifest file your created in the previous step. Adjust the path to where you woul dlike to have your model saved to. Then run this line."
   ]
  },
  {
   "cell_type": "code",
   "execution_count": null,
   "id": "43740fc9-5750-42e9-a524-05bc8c173d51",
   "metadata": {},
   "outputs": [],
   "source": [
    "!ketos segtrain -f alto -t PATH/output.txt -o PATH_MODEL/"
   ]
  },
  {
   "cell_type": "markdown",
   "id": "f50a413b-b192-4c47-909b-9c899d02cbd1",
   "metadata": {},
   "source": [
    "## Fine-tune a model\n",
    "If you are fine-tuning a model, save that model to a folder, then adjust the path to both that model and to where you would like your fine-tuned model to be saved. Now run this line."
   ]
  },
  {
   "cell_type": "code",
   "execution_count": null,
   "id": "fb8838a0-0c8a-4c33-8023-c1de29430e12",
   "metadata": {},
   "outputs": [],
   "source": [
    "!ketos segtrain -f alto -t output.txt --resize both -i PATH/PRE_MODEL -o PATH/"
   ]
  }
 ],
 "metadata": {
  "kernelspec": {
   "display_name": "Python 3 (ipykernel)",
   "language": "python",
   "name": "python3"
  },
  "language_info": {
   "codemirror_mode": {
    "name": "ipython",
    "version": 3
   },
   "file_extension": ".py",
   "mimetype": "text/x-python",
   "name": "python",
   "nbconvert_exporter": "python",
   "pygments_lexer": "ipython3",
   "version": "3.12.9"
  }
 },
 "nbformat": 4,
 "nbformat_minor": 5
}
